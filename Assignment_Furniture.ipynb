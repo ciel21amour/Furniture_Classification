{
 "cells": [
  {
   "cell_type": "code",
   "execution_count": 1,
   "metadata": {},
   "outputs": [],
   "source": [
    "import os\n",
    "import numpy as np\n",
    "#from random import randint\n",
    "import random\n",
    "import cv2"
   ]
  },
  {
   "cell_type": "code",
   "execution_count": 448,
   "metadata": {},
   "outputs": [
    {
     "name": "stdout",
     "output_type": "stream",
     "text": [
      "/Users/amreenshaikh/Documents/NNFL/lab3/Furniture/bed_jpg\n"
     ]
    }
   ],
   "source": [
    "location = os.getcwd() # get present working directory location here\n",
    "counter = 0 #keep a count of all files found\n",
    "\n",
    "location = location+ \"/Furniture\"\n",
    "bed = location + \"/bed_jpg\"\n",
    "print(bed)\n",
    "len(bed)\n",
    "names = os.listdir(bed)\n",
    "\n",
    "\n",
    "p = cv2.imread(os.path.join(bed,names[0]))\n",
    "p[0][0]\n",
    "\n",
    "\n",
    "chair = location + \"/chair_jpg\"\n",
    "lamp = location + \"/lamp_jpg\"\n",
    "shelf = location + \"/shelf_jpg\"\n",
    "sofa = location + \"/sofa_jpg\"\n",
    "stool = location + \"/stool_jpg\"\n",
    "table = location + \"/table_jpg\"\n",
    "wardrobe = location + \"/wardrobe_jpg\""
   ]
  },
  {
   "cell_type": "code",
   "execution_count": 641,
   "metadata": {},
   "outputs": [],
   "source": [
    "def load_images_from_folder(folder,x,y):\n",
    "    images = []\n",
    "    if(x==236):\n",
    "        x1 = 62\n",
    "    if(x==360):\n",
    "        x1=0\n",
    "    if(y==180):\n",
    "        y1=40\n",
    "    if(y==260):\n",
    "        y1=0\n",
    "    m=1\n",
    "    if(folder==bed):\n",
    "        m = 0\n",
    "    if(folder==chair):\n",
    "        m = 1\n",
    "    if(folder==lamp):\n",
    "        m = 2\n",
    "    if(folder==shelf):\n",
    "        m = 3\n",
    "    if(folder==sofa):\n",
    "        m = 4\n",
    "    if(folder==stool):\n",
    "        m = 5\n",
    "    if(folder==table):\n",
    "        m = 6\n",
    "    if(folder==wardrobe):\n",
    "        m = 7\n",
    "    \n",
    "    for filename in os.listdir(folder):\n",
    "        img = cv2.imread(os.path.join(folder,filename),0)\n",
    "        constant= cv2.copyMakeBorder(img,y1,y1,x1,x1,cv2.BORDER_CONSTANT,value=[255,255,255])\n",
    "        #res = cv.resize(constant,(32,32), interpolation = cv.INTER_CUBIC)\n",
    "        res = cv2.resize(img, (96, 96))\n",
    "        res = res/255\n",
    "        res=np.asarray(res)\n",
    "        if res is not None:\n",
    "            images.append([res,m])\n",
    "    return images"
   ]
  },
  {
   "cell_type": "code",
   "execution_count": 642,
   "metadata": {},
   "outputs": [],
   "source": [
    "#x_data = []\n",
    "#y_data = []"
   ]
  },
  {
   "cell_type": "code",
   "execution_count": 643,
   "metadata": {},
   "outputs": [],
   "source": [
    "#print(len(x_data))\n",
    "bed1= (load_images_from_folder(bed,360,180))\n",
    "#print(bed1[0][0][12][21])\n",
    "#print(len(bed1[0]))\n"
   ]
  },
  {
   "cell_type": "code",
   "execution_count": 644,
   "metadata": {},
   "outputs": [
    {
     "name": "stdout",
     "output_type": "stream",
     "text": [
      "<class 'tuple'>\n"
     ]
    }
   ],
   "source": [
    "print(type(bed1[0][0].shape))"
   ]
  },
  {
   "cell_type": "code",
   "execution_count": 645,
   "metadata": {},
   "outputs": [],
   "source": [
    "\n",
    "\n",
    "\n",
    "#bed1 = (load_images_from_folder(bed))\n",
    "lamp1  = load_images_from_folder(chair,236,260)\n",
    "chair1 = load_images_from_folder(lamp,236,260)\n",
    "shelf1 = load_images_from_folder(shelf,236,260)\n",
    "sofa1  = load_images_from_folder(sofa,360,180)\n",
    "stool1 = load_images_from_folder(stool,236,260)\n",
    "table1 = load_images_from_folder(table,236,260)\n",
    "wardrobe1 = load_images_from_folder(wardrobe,236,260)"
   ]
  },
  {
   "cell_type": "code",
   "execution_count": 646,
   "metadata": {},
   "outputs": [
    {
     "name": "stdout",
     "output_type": "stream",
     "text": [
      "592\n",
      "412\n",
      "671\n",
      "202\n",
      "675\n",
      "363\n",
      "613\n",
      "304\n",
      "3832\n",
      "<class 'list'>\n",
      "<class 'list'>\n"
     ]
    }
   ],
   "source": [
    "print(len(bed1))\n",
    "print(len(chair1))\n",
    "print(len(lamp1))\n",
    "print(len(shelf1))\n",
    "print(len(sofa1))\n",
    "print(len(stool1))\n",
    "print(len(table1))\n",
    "print(len(wardrobe1))\n",
    "\n",
    "z=(len(bed1))\n",
    "z=z+(len(chair1))\n",
    "z=z+(len(lamp1))\n",
    "z=z+(len(shelf1))\n",
    "z=z+(len(sofa1))\n",
    "z=z+(len(stool1))\n",
    "z=z+(len(table1))\n",
    "z=z+(len(wardrobe1))\n",
    "print(z)\n",
    "print(type(bed1))\n",
    "x_data = (bed1)\n",
    "print(type(x_data))"
   ]
  },
  {
   "cell_type": "code",
   "execution_count": 647,
   "metadata": {},
   "outputs": [],
   "source": [
    "x_data = x_data + (chair1)\n",
    "x_data = x_data + (lamp1)\n",
    "x_data = x_data + (shelf1)\n",
    "x_data = x_data + (sofa1)\n",
    "x_data = x_data + (stool1)\n",
    "x_data = x_data + (table1)\n",
    "x_data = x_data + (wardrobe1)\n"
   ]
  },
  {
   "cell_type": "code",
   "execution_count": 648,
   "metadata": {},
   "outputs": [
    {
     "name": "stdout",
     "output_type": "stream",
     "text": [
      "3832\n"
     ]
    }
   ],
   "source": [
    "print(len(x_data))"
   ]
  },
  {
   "cell_type": "code",
   "execution_count": 649,
   "metadata": {},
   "outputs": [
    {
     "data": {
      "image/png": "[encoded data removed]",
      "text/plain": [
       "<matplotlib.figure.Figure at 0x186364b6a0>"
      ]
     },
     "metadata": {},
     "output_type": "display_data"
    },
    {
     "name": "stdout",
     "output_type": "stream",
     "text": [
      "/\n"
     ]
    }
   ],
   "source": [
    "from matplotlib import pyplot as plt\n",
    "plt.imshow(lamp1[0][0])\n",
    "plt.show()\n",
    "print(lamp[0][0])"
   ]
  },
  {
   "cell_type": "code",
   "execution_count": 675,
   "metadata": {},
   "outputs": [
    {
     "name": "stdout",
     "output_type": "stream",
     "text": [
      "3832\n",
      "4\n",
      "4\n"
     ]
    }
   ],
   "source": [
    "from random import shuffle\n",
    "shuffle(x_data)\n",
    "print(len(x_data))\n",
    "print(x_data[0][1])\n",
    "shuffle(x_data)\n",
    "print(x_data[0][1])"
   ]
  },
  {
   "cell_type": "code",
   "execution_count": 676,
   "metadata": {},
   "outputs": [],
   "source": [
    "x_train,x_test = x_data[:3782],x_data[3782:]"
   ]
  },
  {
   "cell_type": "code",
   "execution_count": 652,
   "metadata": {},
   "outputs": [
    {
     "name": "stdout",
     "output_type": "stream",
     "text": [
      "3782\n",
      "50\n",
      "(96, 96)\n"
     ]
    }
   ],
   "source": [
    "print(len(x_train))\n",
    "print(len(x_test))\n",
    "print(x_test[0][0].shape)"
   ]
  },
  {
   "cell_type": "code",
   "execution_count": 653,
   "metadata": {},
   "outputs": [],
   "source": [
    "from keras.layers import Conv2D,Dense,Flatten,MaxPooling2D,Dropout,Activation,Input,BatchNormalization,Conv1D\n",
    "from keras.models import Sequential\n",
    "\n",
    "model = Sequential()\n",
    "model.add(Conv2D(32,(2,2),input_shape=(96,96,3)))\n",
    "model.add(Activation('relu'))\n",
    "model.add(Conv2D(64,(2,2)))\n",
    "model.add(Activation('relu'))\n",
    "model.add(MaxPooling2D())\n",
    "model.add(Flatten())\n",
    "model.add(Dense(128,activation='sigmoid'))\n",
    "model.add(Dropout(0.5))\n",
    "model.add(Dense(8,activation='softmax'))"
   ]
  },
  {
   "cell_type": "code",
   "execution_count": 655,
   "metadata": {},
   "outputs": [],
   "source": [
    "#print(model.summary())\n",
    "#print(model1.summary())"
   ]
  },
  {
   "cell_type": "code",
   "execution_count": 656,
   "metadata": {},
   "outputs": [],
   "source": [
    "model.compile(loss='categorical_crossentropy',optimizer='adam',metrics=['categorical_accuracy'])"
   ]
  },
  {
   "cell_type": "code",
   "execution_count": 658,
   "metadata": {},
   "outputs": [],
   "source": [
    "import numpy as np\n",
    "#myarray = np.asarray(x_train)\n",
    "#print(myarray.shape)\n"
   ]
  },
  {
   "cell_type": "code",
   "execution_count": 677,
   "metadata": {},
   "outputs": [
    {
     "name": "stdout",
     "output_type": "stream",
     "text": [
      "[[1. 1. 1. ... 1. 1. 1.]\n",
      " [1. 1. 1. ... 1. 1. 1.]\n",
      " [1. 1. 1. ... 1. 1. 1.]\n",
      " ...\n",
      " [1. 1. 1. ... 1. 1. 1.]\n",
      " [1. 1. 1. ... 1. 1. 1.]\n",
      " [1. 1. 1. ... 1. 1. 1.]]\n",
      "5\n"
     ]
    }
   ],
   "source": [
    "from keras.utils import np_utils\n",
    "\n",
    "train_x=[]\n",
    "train_y=[]\n",
    "print(x_train[3][0])\n",
    "print(x_train[5][1])\n",
    "\n",
    "for i in range(3782):\n",
    "    train_x.append(x_train[i][0])\n",
    "    train_y.append(x_train[i][1])\n",
    "train_y_onehot = np_utils.to_categorical(train_y,8)\n",
    "\n",
    "tx=np.asarray(train_x)\n",
    "ty=np.asarray(train_y_onehot)"
   ]
  },
  {
   "cell_type": "code",
   "execution_count": 678,
   "metadata": {},
   "outputs": [
    {
     "name": "stdout",
     "output_type": "stream",
     "text": [
      "(3782, 96, 96)\n",
      "(3782, 96, 96, 1)\n"
     ]
    }
   ],
   "source": [
    "print(tx.shape)\n",
    "tx=np.expand_dims(tx,axis=3)\n",
    "print(tx.shape)"
   ]
  },
  {
   "cell_type": "code",
   "execution_count": 661,
   "metadata": {},
   "outputs": [
    {
     "name": "stdout",
     "output_type": "stream",
     "text": [
      "[[0.07843137 0.07843137 0.09019608 ... 0.10588235 0.09411765 0.09019608]\n",
      " [0.08235294 0.08627451 0.09019608 ... 0.10196078 0.10588235 0.10588235]\n",
      " [0.09019608 0.08627451 0.09019608 ... 0.10588235 0.10196078 0.10980392]\n",
      " ...\n",
      " [0.33333333 0.37647059 0.34117647 ... 0.65098039 0.65098039 0.63921569]\n",
      " [0.24313725 0.25490196 0.23921569 ... 0.57254902 0.56862745 0.52941176]\n",
      " [0.23921569 0.23921569 0.27843137 ... 0.63529412 0.61568627 0.59215686]]\n",
      "[0. 0. 1. 0. 0. 0. 0. 0.]\n",
      "(96, 96)\n"
     ]
    }
   ],
   "source": [
    "print(train_x[0])\n",
    "print(train_y_onehot[0])\n",
    "print(train_x[0].shape)"
   ]
  },
  {
   "cell_type": "code",
   "execution_count": null,
   "metadata": {},
   "outputs": [],
   "source": [
    "model.fit(tx,ty,epochs=20,validation_split=0.2,batch_size=128)"
   ]
  },
  {
   "cell_type": "code",
   "execution_count": 351,
   "metadata": {},
   "outputs": [],
   "source": [
    "model.save(\"modelgrey.h5\")"
   ]
  },
  {
   "cell_type": "code",
   "execution_count": 684,
   "metadata": {},
   "outputs": [
    {
     "data": {
      "text/plain": [
       "'\\nmodela overfit  96 3 50% 96%\\nmodelb overfit  96 3 44% 85%\\nmodel overfit   32 3 48% 98%\\nmodel64 ------  64 1 90% 51%\\nmodel64_1 ----- 64 1 92% 59%\\nmodelgrey ----- 96 1 94% 63%\\n'"
      ]
     },
     "execution_count": 684,
     "metadata": {},
     "output_type": "execute_result"
    }
   ],
   "source": [
    "'''\n",
    "modela overfit  96 3 50% 96%\n",
    "modelb overfit  96 3 44% 85%\n",
    "model overfit   32 3 48% 98%\n",
    "model64 ------  64 1 90% 51%\n",
    "model64_1 ----- 64 1 92% 59%\n",
    "modelgrey ----- 96 1 94% 63%\n",
    "'''"
   ]
  },
  {
   "cell_type": "code",
   "execution_count": 685,
   "metadata": {},
   "outputs": [],
   "source": [
    "from keras.models import load_model\n",
    "model_test= load_model('2015A7PS0035G.h5')\n",
    "#img = Image.open(\"data/predict/T160305M-0222c_5.jpg\")\n",
    "\n",
    "      \n",
    "test_x=[]\n",
    "test_y=[]\n",
    "\n",
    "for i in range(len(x_test)):\n",
    "    test_x.append(x_test[i][0])\n",
    "    test_y.append(x_test[i][1])\n",
    "test_y_onehot = np_utils.to_categorical(test_y,8)\n",
    "\n",
    "testx=np.asarray(test_x)\n",
    "testy=np.asarray(test_y_onehot)\n",
    "testx=np.expand_dims(testx,axis=3)\n",
    "\n",
    "\n"
   ]
  },
  {
   "cell_type": "code",
   "execution_count": 680,
   "metadata": {},
   "outputs": [
    {
     "name": "stdout",
     "output_type": "stream",
     "text": [
      "(50, 96, 96, 1)\n"
     ]
    }
   ],
   "source": [
    "print(testx.shape)"
   ]
  },
  {
   "cell_type": "code",
   "execution_count": 681,
   "metadata": {},
   "outputs": [
    {
     "name": "stdout",
     "output_type": "stream",
     "text": [
      "<class 'numpy.ndarray'>\n",
      "(50, 8)\n"
     ]
    }
   ],
   "source": [
    "predicted = model_test.predict(testx, batch_size=None, verbose=0, steps=None)\n",
    "print(type(predicted))\n",
    "print(predicted.shape)"
   ]
  },
  {
   "cell_type": "code",
   "execution_count": 682,
   "metadata": {},
   "outputs": [
    {
     "name": "stdout",
     "output_type": "stream",
     "text": [
      "(50, 96, 96, 1)\n"
     ]
    }
   ],
   "source": [
    "print(testx.shape)"
   ]
  },
  {
   "cell_type": "code",
   "execution_count": 689,
   "metadata": {},
   "outputs": [
    {
     "name": "stdout",
     "output_type": "stream",
     "text": [
      "[1, 3, 0, 1, 1, 1, 4, 4, 3, 3, 4, 6, 1, 4, 7, 0, 1, 4, 6, 1, 7, 2, 1, 0, 5, 6, 6, 6, 2, 1, 4, 1, 1, 5, 0, 6, 5, 1, 4, 3, 3, 6, 5, 7, 4, 6, 4, 4, 1, 0]\n",
      "[1, 3, 0, 1, 1, 1, 4, 4, 3, 3, 5, 6, 1, 4, 7, 0, 1, 4, 6, 1, 7, 2, 1, 0, 5, 6, 6, 6, 2, 1, 4, 1, 1, 5, 0, 6, 6, 1, 4, 3, 3, 6, 5, 7, 4, 6, 4, 4, 1, 0]\n",
      "96.0\n"
     ]
    }
   ],
   "source": [
    "output=[]\n",
    "original=[]\n",
    "for i in range(50):\n",
    "    output.append(np.argmax(predicted[i]))\n",
    "    original.append(np.argmax(testy[i]))    \n",
    "        \n",
    "print(output)\n",
    "print(original)\n",
    "\n",
    "count=0\n",
    "for i in range(len(output)):\n",
    "    if(output[i]==original[i]):\n",
    "        count=count+1\n",
    "        \n",
    "print(count*100/50)"
   ]
  },
  {
   "cell_type": "code",
   "execution_count": 688,
   "metadata": {},
   "outputs": [
    {
     "data": {
      "text/plain": [
       "'\\nhere accuracy on unknown test data of 50 images is 96%\\n'"
      ]
     },
     "execution_count": 688,
     "metadata": {},
     "output_type": "execute_result"
    }
   ],
   "source": [
    "'''\n",
    "here accuracy on unknown test data of 50 images is 96%\n",
    "'''"
   ]
  }
 ],
 "metadata": {
  "kernelspec": {
   "display_name": "Python 3",
   "language": "python",
   "name": "python3"
  },
  "language_info": {
   "codemirror_mode": {
    "name": "ipython",
    "version": 3
   },
   "file_extension": ".py",
   "mimetype": "text/x-python",
   "name": "python",
   "nbconvert_exporter": "python",
   "pygments_lexer": "ipython3",
   "version": "3.6.4"
  }
 },
 "nbformat": 4,
 "nbformat_minor": 2
}
