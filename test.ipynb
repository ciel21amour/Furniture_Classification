{
 "cells": [
  {
   "cell_type": "code",
   "execution_count": 1,
   "metadata": {},
   "outputs": [
    {
     "data": {
      "text/plain": [
       "'\\nMy indexing is from 0-7\\n0 - bed\\n1 - chair\\n2 - lamp\\n3 - shelf\\n4 - sofa\\n5 - stool\\n6 - table\\n7 - wardrobe\\n\\nso, if u r following 1-8 please add 1 to them.\\n\\nit takes input of (96,96,1)\\n'"
      ]
     },
     "execution_count": 1,
     "metadata": {},
     "output_type": "execute_result"
    }
   ],
   "source": [
    "'''\n",
    "My indexing is from 0-7\n",
    "0 - bed\n",
    "1 - chair\n",
    "2 - lamp\n",
    "3 - shelf\n",
    "4 - sofa\n",
    "5 - stool\n",
    "6 - table\n",
    "7 - wardrobe\n",
    "\n",
    "so, if u r following 1-8 please add 1 to them.\n",
    "\n",
    "it takes input of (96,96,1)\n",
    "'''"
   ]
  },
  {
   "cell_type": "code",
   "execution_count": 2,
   "metadata": {},
   "outputs": [
    {
     "name": "stderr",
     "output_type": "stream",
     "text": [
      "/Users/amreenshaikh/anaconda3/lib/python3.6/site-packages/h5py/__init__.py:36: FutureWarning: Conversion of the second argument of issubdtype from `float` to `np.floating` is deprecated. In future, it will be treated as `np.float64 == np.dtype(float).type`.\n",
      "  from ._conv import register_converters as _register_converters\n",
      "Using TensorFlow backend.\n"
     ]
    }
   ],
   "source": [
    "from keras.utils import np_utils\n",
    "import numpy as np\n",
    "from keras.models import load_model\n",
    "from keras.layers import Conv2D,Dense,Flatten,MaxPooling2D,Dropout,Activation,Input,BatchNormalization,Conv1D\n",
    "from keras.models import Sequential\n",
    "from random import shuffle\n",
    "from matplotlib import pyplot as plt\n",
    "import cv2\n",
    "import os\n",
    "import random"
   ]
  },
  {
   "cell_type": "code",
   "execution_count": null,
   "metadata": {},
   "outputs": [],
   "source": [
    "def load_image_from_folder_sir(folder_path,img_name):\n",
    "    img = cv2.imread(os.path.join(folder_path,img_name),0)\n",
    "    #img=np.asarray(img)\n",
    "    #shape = img.shape\n",
    "    x=(260-img.shape[0])//2\n",
    "    #x1=260-x-img.shape[0]\n",
    "    y=(360-img.shape[1])//2\n",
    "    #y1=360-y-img.shape[1]\n",
    "    if(x>=0 and y>=0):\n",
    "        constant1= cv2.copyMakeBorder(img,x,x,y,y,cv2.BORDER_CONSTANT,value=[255,255,255])\n",
    "        res1 = cv2.resize(constant1,(96,96))\n",
    "        #res1=np.asarray(res1)\n",
    "        res1 = res1/255\n",
    "        #res1=np.asarray(res1)\n",
    "        res1=res1.astype(np.float32)\n",
    "        #res1=np.reshape(res1,(96,96,3))\n",
    "        print(res1.shape)\n",
    "        if res1 is not None:\n",
    "            return res1\n",
    "    return None"
   ]
  },
  {
   "cell_type": "code",
   "execution_count": null,
   "metadata": {},
   "outputs": [],
   "source": [
    "location = os.getcwd()\n",
    "location = location+ \"/Furniture\"\n",
    "chair = location + \"/test_jpg\" \n",
    "#finding path to folder containing test images"
   ]
  },
  {
   "cell_type": "code",
   "execution_count": null,
   "metadata": {},
   "outputs": [],
   "source": [
    "test_sir=[]\n",
    "folder_path=chair #write the path here\n",
    "for filename in os.listdir(folder_path):\n",
    "        p=load_image_from_folder_sir(folder_path,filename)\n",
    "        if p is not None :\n",
    "            test_sir.append(p)\n",
    "\n",
    "\n"
   ]
  },
  {
   "cell_type": "code",
   "execution_count": null,
   "metadata": {},
   "outputs": [],
   "source": [
    "length=len(test_sir)\n",
    "test_sir=np.asarray(test_sir)\n",
    "test_sir=np.expand_dims(test_sir,axis=3)"
   ]
  },
  {
   "cell_type": "code",
   "execution_count": null,
   "metadata": {},
   "outputs": [],
   "source": [
    "model_test= load_model('2015A7PS0035G.h5')"
   ]
  },
  {
   "cell_type": "code",
   "execution_count": null,
   "metadata": {},
   "outputs": [],
   "source": [
    "predicted_sir = model_test.predict(test_sir, batch_size=None, verbose=0, steps=10)"
   ]
  },
  {
   "cell_type": "code",
   "execution_count": null,
   "metadata": {},
   "outputs": [],
   "source": [
    "output_sir=[]\n",
    "p=0\n",
    "print(folder_path)\n",
    "for i in range(length):\n",
    "    p=np.argmax(predicted_sir[i])\n",
    "    output_sir.append(p)\n",
    "    if(p==0):\n",
    "        print(\"bed\")   \n",
    "    if(p==1):\n",
    "        print(\"chair\")   \n",
    "    if(p==2):\n",
    "        print(\"lamp\")   \n",
    "    if(p==3):\n",
    "        print(\"shelf\")   \n",
    "    if(p==4):\n",
    "        print(\"sofa\")   \n",
    "    if(p==5):\n",
    "        print(\"stool\")   \n",
    "    if(p==6):\n",
    "        print(\"table\")\n",
    "    if(p==7):\n",
    "        print(\"wardrobe\")\n",
    "                "
   ]
  },
  {
   "cell_type": "code",
   "execution_count": null,
   "metadata": {},
   "outputs": [],
   "source": [
    "p=0\n",
    "for i in output_sir:\n",
    "    if i == 1:\n",
    "        p=p+1\n",
    "p/len(output_sir)*100"
   ]
  },
  {
   "cell_type": "code",
   "execution_count": null,
   "metadata": {},
   "outputs": [],
   "source": []
  }
 ],
 "metadata": {
  "kernelspec": {
   "display_name": "Python 3",
   "language": "python",
   "name": "python3"
  },
  "language_info": {
   "codemirror_mode": {
    "name": "ipython",
    "version": 3
   },
   "file_extension": ".py",
   "mimetype": "text/x-python",
   "name": "python",
   "nbconvert_exporter": "python",
   "pygments_lexer": "ipython3",
   "version": "3.6.4"
  }
 },
 "nbformat": 4,
 "nbformat_minor": 2
}
